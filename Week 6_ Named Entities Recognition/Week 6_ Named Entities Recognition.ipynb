{
 "cells": [
  {
   "cell_type": "markdown",
   "id": "410468b3",
   "metadata": {},
   "source": [
    "# Week 6_ Named Entities Recognition\n",
    "\n",
    "- Introduction to named entities recognition and its types\n",
    "- Understanding of Named Entity Recognition (NER) and its applications\n",
    "- Introduction to different NER techniques such as rule-based, statistical and neural models\n",
    "- Understanding of Named Entity Disambiguation (NED) and its applications\n",
    "- Understanding of Named Entity Linking (NEL) and its applications\n",
    "- Implementing Named Entity Recognition models using PyTorch or TensorFlow\n",
    "- Understanding of evaluation metrics for Named Entity Recognition\n",
    "- Introduction to pre-trained models such as BERT and its fine-tuning for NER tasks\n",
    "- Understanding of transfer learning for Named Entity Recognition\n",
    "- Understanding of active learning and its application in Named Entity Recognition\n",
    "- Understanding of unsupervised techniques for Named Entity Recognition\n",
    "- Understanding the role of Named Entity in NLP tasks such as Text summarization, Text generation and Machine Translation\n",
    "- Understanding of data preparation and data cleaning for Named Entity Recognition tasks\n",
    "- Understanding the role of ensemble models in Named Entity Recognition"
   ]
  },
  {
   "cell_type": "code",
   "execution_count": null,
   "id": "3d68382c",
   "metadata": {},
   "outputs": [],
   "source": []
  },
  {
   "cell_type": "code",
   "execution_count": null,
   "id": "73a46046",
   "metadata": {},
   "outputs": [],
   "source": []
  },
  {
   "cell_type": "code",
   "execution_count": null,
   "id": "dac3b956",
   "metadata": {},
   "outputs": [],
   "source": []
  },
  {
   "cell_type": "code",
   "execution_count": null,
   "id": "714ca49d",
   "metadata": {},
   "outputs": [],
   "source": []
  }
 ],
 "metadata": {
  "kernelspec": {
   "display_name": "Python 3 (ipykernel)",
   "language": "python",
   "name": "python3"
  },
  "language_info": {
   "codemirror_mode": {
    "name": "ipython",
    "version": 3
   },
   "file_extension": ".py",
   "mimetype": "text/x-python",
   "name": "python",
   "nbconvert_exporter": "python",
   "pygments_lexer": "ipython3",
   "version": "3.10.1"
  }
 },
 "nbformat": 4,
 "nbformat_minor": 5
}
