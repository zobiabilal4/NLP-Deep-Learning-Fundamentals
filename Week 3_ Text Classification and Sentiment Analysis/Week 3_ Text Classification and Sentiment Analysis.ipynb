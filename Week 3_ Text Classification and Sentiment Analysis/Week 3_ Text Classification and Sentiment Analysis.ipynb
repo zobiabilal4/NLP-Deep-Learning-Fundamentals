{
 "cells": [
  {
   "cell_type": "markdown",
   "id": "29809915",
   "metadata": {},
   "source": [
    "# Week 3_ Text Classification and Sentiment Analysis\n",
    "\n",
    "- Understanding of text classification and its types\n",
    "- Introduction to sentiment analysis and its applications\n",
    "- Understanding of Bag of Words, TF-IDF and word embeddings representations\n",
    "- Implementing text classification models using PyTorch or TensorFlow\n",
    "- Understanding of different types of architectures used in text classification such as MLP, CNN, RNN, Transformer\n",
    "- Introduction to pre-trained models such as BERT and its fine-tuning for text classification tasks\n",
    "- Understanding of evaluation metrics for text classification and sentiment analysis\n",
    "- Introduction to transfer learning for text classification\n",
    "- Understanding of active learning and its application in text classification\n",
    "- Understanding of unsupervised techniques for text classification\n",
    "- Implementing sentiment analysis models using PyTorch or TensorFlow\n",
    "- Understanding of data preparation and data cleaning for text classification and sentiment analysis tasks\n",
    "- Understanding the role of ensemble models in text classification and sentiment analysis"
   ]
  },
  {
   "cell_type": "code",
   "execution_count": null,
   "id": "77acec2c",
   "metadata": {},
   "outputs": [],
   "source": []
  },
  {
   "cell_type": "code",
   "execution_count": null,
   "id": "47660ac4",
   "metadata": {},
   "outputs": [],
   "source": []
  },
  {
   "cell_type": "code",
   "execution_count": null,
   "id": "04a597e7",
   "metadata": {},
   "outputs": [],
   "source": []
  },
  {
   "cell_type": "code",
   "execution_count": null,
   "id": "08b88e97",
   "metadata": {},
   "outputs": [],
   "source": []
  }
 ],
 "metadata": {
  "kernelspec": {
   "display_name": "Python 3 (ipykernel)",
   "language": "python",
   "name": "python3"
  },
  "language_info": {
   "codemirror_mode": {
    "name": "ipython",
    "version": 3
   },
   "file_extension": ".py",
   "mimetype": "text/x-python",
   "name": "python",
   "nbconvert_exporter": "python",
   "pygments_lexer": "ipython3",
   "version": "3.10.1"
  }
 },
 "nbformat": 4,
 "nbformat_minor": 5
}
