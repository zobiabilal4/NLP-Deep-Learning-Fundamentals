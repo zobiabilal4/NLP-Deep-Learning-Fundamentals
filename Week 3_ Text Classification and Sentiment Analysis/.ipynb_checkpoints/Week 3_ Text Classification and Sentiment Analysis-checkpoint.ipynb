{
 "cells": [
  {
   "cell_type": "markdown",
   "id": "29809915",
   "metadata": {},
   "source": [
    "# Week 3_ Text Classification and Sentiment Analysis\n",
    "\n",
    "- Understanding of text classification and its types\n",
    "- Introduction to sentiment analysis and its applications\n",
    "- Understanding of Bag of Words, TF-IDF and word embeddings representations\n",
    "- Implementing text classification models using PyTorch or TensorFlow\n",
    "- Understanding of different types of architectures used in text classification such as MLP, CNN, RNN, Transformer\n",
    "- Introduction to pre-trained models such as BERT and its fine-tuning for text classification tasks\n",
    "- Understanding of evaluation metrics for text classification and sentiment analysis\n",
    "- Introduction to transfer learning for text classification\n",
    "- Understanding of active learning and its application in text classification\n",
    "- Understanding of unsupervised techniques for text classification\n",
    "- Implementing sentiment analysis models using PyTorch or TensorFlow\n",
    "- Understanding of data preparation and data cleaning for text classification and sentiment analysis tasks\n",
    "- Understanding the role of ensemble models in text classification and sentiment analysis"
   ]
  },
  {
   "cell_type": "code",
   "execution_count": null,
   "id": "2a4df435",
   "metadata": {},
   "outputs": [],
   "source": []
  },
  {
   "cell_type": "markdown",
   "id": "099ddf63",
   "metadata": {},
   "source": [
    "# Understanding of text classification and its types\n",
    "\n",
    "**Text classification is the process of assigning predefined categories or labels to text data. It is a type of supervised learning in which an algorithm is trained on a labeled dataset to classify new, unseen text data into predefined categories.**\n",
    "\n",
    "There are several types of text classification:\n",
    "\n",
    "- **Binary classification:** In this type, the text is classified into one of two categories, such as spam or not spam, positive or negative sentiment, etc.\n",
    "\n",
    "- **Multi-class classification:** In this type, the text is classified into one of several categories, such as news article classification, where the article can be classified as sports, politics, entertainment, etc.\n",
    "\n",
    "- **Hierarchical classification:** This type involves classifying text into a hierarchy of categories. For example, a news article can be first classified as either sports or politics, and then further classified into sub-categories such as football, cricket, etc. for sports, and national, international, etc. for politics.\n",
    "\n",
    "- **Multi-label classification:** In this type, the text can be assigned multiple labels or categories. For example, a news article can be classified as both sports and entertainment.\n",
    "\n",
    "> **Note:** Text classification has various applications, such as spam detection, sentiment analysis, news categorization, product categorization, and many more."
   ]
  },
  {
   "cell_type": "markdown",
   "id": "e16d34a4",
   "metadata": {},
   "source": [
    "### Implementation of a simple text classifier using keras"
   ]
  },
  {
   "cell_type": "code",
   "execution_count": 16,
   "id": "04a597e7",
   "metadata": {},
   "outputs": [],
   "source": [
    "import numpy as np\n",
    "from keras.datasets import imdb\n",
    "from keras.models import Sequential\n",
    "from keras.layers import Dense, Dropout, Embedding, Flatten\n",
    "from keras.preprocessing.text import Tokenizer\n",
    "# from keras.preprocessing.sequence import pad_sequences\n",
    "from sklearn.datasets import fetch_20newsgroups\n",
    "from keras_preprocessing.sequence import pad_sequences\n",
    "from keras.models import Sequential\n",
    "from keras.layers import Dense, Dropout, Activation\n",
    "from keras.preprocessing.text import Tokenizer"
   ]
  },
  {
   "cell_type": "code",
   "execution_count": 25,
   "id": "0b5333bf",
   "metadata": {},
   "outputs": [
    {
     "data": {
      "text/plain": [
       "array([1, 0, 0, ..., 0, 1, 0])"
      ]
     },
     "execution_count": 25,
     "metadata": {},
     "output_type": "execute_result"
    }
   ],
   "source": [
    "# Load the data\n",
    "(x_train, y_train), (x_test, y_test) = imdb.load_data(num_words=1000)\n",
    "# x_train\n",
    "y_train"
   ]
  },
  {
   "cell_type": "code",
   "execution_count": 26,
   "id": "a6c47341",
   "metadata": {},
   "outputs": [],
   "source": [
    "# Preprocess the data\n",
    "max_words = 1000\n",
    "tokenizer = Tokenizer(num_words=max_words)\n",
    "x_train = tokenizer.sequences_to_matrix(x_train, mode='binary')\n",
    "x_test = tokenizer.sequences_to_matrix(x_test, mode='binary')\n",
    "\n"
   ]
  },
  {
   "cell_type": "code",
   "execution_count": 27,
   "id": "0127422f",
   "metadata": {},
   "outputs": [],
   "source": [
    "# Define the model\n",
    "model = Sequential()\n",
    "model.add(Dense(512, input_shape=(max_words,)))\n",
    "model.add(Activation('relu'))\n",
    "model.add(Dropout(0.5))\n",
    "model.add(Dense(1))\n",
    "model.add(Activation('sigmoid'))\n"
   ]
  },
  {
   "cell_type": "code",
   "execution_count": 28,
   "id": "661b1715",
   "metadata": {},
   "outputs": [],
   "source": [
    "# Compile the model\n",
    "model.compile(loss='binary_crossentropy', optimizer='adam', metrics=['accuracy'])\n",
    "\n"
   ]
  },
  {
   "cell_type": "code",
   "execution_count": 29,
   "id": "0b3a550b",
   "metadata": {},
   "outputs": [
    {
     "name": "stdout",
     "output_type": "stream",
     "text": [
      "Epoch 1/5\n",
      "704/704 [==============================] - 3s 4ms/step - loss: 0.3851 - accuracy: 0.8280 - val_loss: 0.3388 - val_accuracy: 0.8580\n",
      "Epoch 2/5\n",
      "704/704 [==============================] - 3s 4ms/step - loss: 0.3126 - accuracy: 0.8665 - val_loss: 0.3375 - val_accuracy: 0.8540\n",
      "Epoch 3/5\n",
      "704/704 [==============================] - 3s 4ms/step - loss: 0.2721 - accuracy: 0.8859 - val_loss: 0.3367 - val_accuracy: 0.8600\n",
      "Epoch 4/5\n",
      "704/704 [==============================] - 3s 4ms/step - loss: 0.2244 - accuracy: 0.9099 - val_loss: 0.3530 - val_accuracy: 0.8544\n",
      "Epoch 5/5\n",
      "704/704 [==============================] - 3s 4ms/step - loss: 0.1714 - accuracy: 0.9368 - val_loss: 0.3586 - val_accuracy: 0.8560\n"
     ]
    },
    {
     "data": {
      "text/plain": [
       "<keras.callbacks.History at 0x7fbae1b08850>"
      ]
     },
     "execution_count": 29,
     "metadata": {},
     "output_type": "execute_result"
    }
   ],
   "source": [
    "# Train the model\n",
    "model.fit(x_train, y_train, epochs=5, batch_size=32, validation_split=0.1)\n"
   ]
  },
  {
   "cell_type": "code",
   "execution_count": 30,
   "id": "398c9362",
   "metadata": {},
   "outputs": [
    {
     "name": "stdout",
     "output_type": "stream",
     "text": [
      "782/782 [==============================] - 1s 1ms/step - loss: 0.3395 - accuracy: 0.8584\n",
      "Test loss: 0.3394511640071869\n",
      "Test accuracy: 0.8583599925041199\n"
     ]
    }
   ],
   "source": [
    "# Evaluate the model on test data\n",
    "score = model.evaluate(x_test, y_test, batch_size=32)\n",
    "print('Test loss:', score[0])\n",
    "print('Test accuracy:', score[1])\n"
   ]
  },
  {
   "cell_type": "code",
   "execution_count": 55,
   "id": "ce4a767a",
   "metadata": {},
   "outputs": [],
   "source": [
    "# Preprocess new data\n",
    "new_review = 'This movie was great!'\n",
    "new_review = tokenizer.texts_to_matrix([new_review], mode='binary')\n",
    "\n"
   ]
  },
  {
   "cell_type": "code",
   "execution_count": 56,
   "id": "6287c357",
   "metadata": {},
   "outputs": [
    {
     "name": "stdout",
     "output_type": "stream",
     "text": [
      "1/1 [==============================] - 0s 17ms/step\n"
     ]
    }
   ],
   "source": [
    "# new_review\n",
    "predictions = model.predict(new_review)\n"
   ]
  },
  {
   "cell_type": "code",
   "execution_count": 57,
   "id": "4da9e9cf",
   "metadata": {},
   "outputs": [
    {
     "data": {
      "text/plain": [
       "0.53521323"
      ]
     },
     "execution_count": 57,
     "metadata": {},
     "output_type": "execute_result"
    }
   ],
   "source": [
    "predictions[0][0]"
   ]
  },
  {
   "cell_type": "code",
   "execution_count": 58,
   "id": "ba7c50b9",
   "metadata": {},
   "outputs": [
    {
     "name": "stdout",
     "output_type": "stream",
     "text": [
      "Positive review\n"
     ]
    }
   ],
   "source": [
    "# Make predictions\n",
    "if predictions[0][0] > 0.5:\n",
    "    print('Positive review')\n",
    "else:\n",
    "    print('Negative review')\n"
   ]
  },
  {
   "cell_type": "code",
   "execution_count": null,
   "id": "4746e0b4",
   "metadata": {},
   "outputs": [],
   "source": []
  },
  {
   "cell_type": "markdown",
   "id": "26bf23d1",
   "metadata": {},
   "source": [
    "In this example, we load the IMDB movie review dataset, which consists of 25,000 movie reviews labeled as positive or negative. We use the Tokenizer class to preprocess the data and convert the text into a binary matrix. We then define a simple neural network model consisting of a dense layer with 512 units, a ReLU activation function, a dropout layer, and a dense output layer with a sigmoid activation function. We compile the model using binary cross-entropy loss and the Adam optimizer. We then train the model on the training data and evaluate its performance on the test data."
   ]
  },
  {
   "cell_type": "code",
   "execution_count": null,
   "id": "5331c376",
   "metadata": {},
   "outputs": [],
   "source": []
  },
  {
   "cell_type": "markdown",
   "id": "17cd15b6",
   "metadata": {},
   "source": [
    "# Introduction to sentiment analysis and its applications\n",
    "S\n",
    "***entiment analysis is the process of analyzing text data to determine the sentiment or emotion expressed in the text. It is a subfield of natural language processing (NLP) that has many practical applications, including customer feedback analysis, brand monitoring, and social media analysis.**\n",
    "\n",
    "For example, let's consider a customer review for a product: \"I absolutely love this product! It works like a charm and has made my life so much easier.\" In this example, the sentiment expressed is positive, and sentiment analysis algorithms can be used to automatically classify the sentiment as positive.\n",
    "\n",
    "Sentiment analysis has many applications in various industries, such as:\n",
    "\n",
    "- **E-commerce:** analyzing customer feedback and reviews to identify product strengths and weaknesses and make data-driven decisions for product improvements.\n",
    "\n",
    "- **Marketing:** monitoring brand sentiment across social media and other online platforms to evaluate the effectiveness of marketing campaigns and adjust them accordingly.\n",
    "\n",
    "- **Healthcare:** analyzing patient feedback to identify trends and improve patient experience and satisfaction.\n",
    "\n",
    "- **Finance:** analyzing news articles and social media data to predict stock market trends and make informed investment decisions.\n",
    "\n",
    "To build a sentiment analysis model using machine learning, we need a labeled dataset of text data with sentiment labels (positive, negative, or neutral). We can preprocess the data by tokenizing the text and removing stop words, and then train a machine learning model, such as a logistic regression or a neural network, to predict the sentiment of new text data.\n",
    "\n",
    "Overall, sentiment analysis is a powerful tool for understanding customer opinions and emotions and making data-driven decisions in various industries."
   ]
  },
  {
   "cell_type": "code",
   "execution_count": null,
   "id": "bce8a36b",
   "metadata": {},
   "outputs": [],
   "source": []
  }
 ],
 "metadata": {
  "kernelspec": {
   "display_name": "Python 3 (ipykernel)",
   "language": "python",
   "name": "python3"
  },
  "language_info": {
   "codemirror_mode": {
    "name": "ipython",
    "version": 3
   },
   "file_extension": ".py",
   "mimetype": "text/x-python",
   "name": "python",
   "nbconvert_exporter": "python",
   "pygments_lexer": "ipython3",
   "version": "3.8.10"
  }
 },
 "nbformat": 4,
 "nbformat_minor": 5
}
