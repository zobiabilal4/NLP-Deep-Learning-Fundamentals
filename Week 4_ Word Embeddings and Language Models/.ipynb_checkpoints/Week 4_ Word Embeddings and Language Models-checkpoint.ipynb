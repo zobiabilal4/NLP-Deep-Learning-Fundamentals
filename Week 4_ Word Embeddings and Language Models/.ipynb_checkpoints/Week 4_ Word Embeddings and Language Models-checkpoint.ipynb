{
 "cells": [
  {
   "cell_type": "markdown",
   "id": "ac012681",
   "metadata": {},
   "source": [
    "# Week 4_ Word Embeddings and Language Models\n",
    "\n",
    "\n",
    "- Introduction to word embeddings and its types\n",
    "- Understanding of word2vec and GloVe embeddings\n",
    "- Implementing word embeddings using PyTorch or TensorFlow\n",
    "- Understanding of language models and its types\n",
    "- Introduction to Markov Chain and Hidden Markov Models\n",
    "- Introduction to n-gram language models\n",
    "- Understanding of Recurrent Neural Language Models\n",
    "- Introduction to Generative Pre-training Transformer (GPT) and its variants\n",
    "- Introduction to fine-tuning pre-trained language models\n",
    "- Understanding of evaluation metrics for language models\n",
    "- Understanding of text generation using language models\n",
    "- Introduction to machine translation and its techniques\n",
    "- Understanding the role of attention mechanism in language models\n",
    "- Understanding the concept of Language model pre-training and its application in NLP tasks.\n",
    "- Understanding the concept of zero-shot learning and its application in NLP tasks."
   ]
  },
  {
   "cell_type": "code",
   "execution_count": null,
   "id": "a2d97669",
   "metadata": {},
   "outputs": [],
   "source": []
  },
  {
   "cell_type": "code",
   "execution_count": null,
   "id": "fbe0d43b",
   "metadata": {},
   "outputs": [],
   "source": []
  },
  {
   "cell_type": "code",
   "execution_count": null,
   "id": "1ddc83df",
   "metadata": {},
   "outputs": [],
   "source": []
  },
  {
   "cell_type": "code",
   "execution_count": 1,
   "id": "d9d7bbe6",
   "metadata": {},
   "outputs": [
    {
     "data": {
      "text/plain": [
       "[2, 3, 4, 5, 5]"
      ]
     },
     "execution_count": 1,
     "metadata": {},
     "output_type": "execute_result"
    }
   ],
   "source": [
    "list1=[2,3,4,5,5]\n",
    "\n",
    "list1"
   ]
  },
  {
   "cell_type": "code",
   "execution_count": null,
   "id": "a9b1a3dd",
   "metadata": {},
   "outputs": [],
   "source": []
  },
  {
   "cell_type": "code",
   "execution_count": null,
   "id": "3eab184a",
   "metadata": {},
   "outputs": [],
   "source": []
  },
  {
   "cell_type": "code",
   "execution_count": null,
   "id": "d0b7601a",
   "metadata": {},
   "outputs": [],
   "source": []
  },
  {
   "cell_type": "markdown",
   "id": "3cf6056d",
   "metadata": {},
   "source": [
    "<img src=\"https://play-lh.googleusercontent.com/2El-X0RCUTz3jdOrERZh3NosHTpyYznQqWvQV4gnibCJq02tLztlQGjdOio4GY-oEt8\">"
   ]
  },
  {
   "cell_type": "code",
   "execution_count": null,
   "id": "9efbc1c1",
   "metadata": {},
   "outputs": [],
   "source": []
  }
 ],
 "metadata": {
  "kernelspec": {
   "display_name": "Python 3 (ipykernel)",
   "language": "python",
   "name": "python3"
  },
  "language_info": {
   "codemirror_mode": {
    "name": "ipython",
    "version": 3
   },
   "file_extension": ".py",
   "mimetype": "text/x-python",
   "name": "python",
   "nbconvert_exporter": "python",
   "pygments_lexer": "ipython3",
   "version": "3.10.1"
  }
 },
 "nbformat": 4,
 "nbformat_minor": 5
}
