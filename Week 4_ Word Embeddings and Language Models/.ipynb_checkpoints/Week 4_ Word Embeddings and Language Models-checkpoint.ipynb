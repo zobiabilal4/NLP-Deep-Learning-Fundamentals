{
 "cells": [
  {
   "cell_type": "markdown",
   "id": "ac012681",
   "metadata": {},
   "source": [
    "# Week 4_ Word Embeddings and Language Models\n",
    "\n",
    "\n",
    "- Introduction to word embeddings and its types\n",
    "- Understanding of word2vec and GloVe embeddings\n",
    "- Implementing word embeddings using PyTorch or TensorFlow\n",
    "- Understanding of language models and its types\n",
    "- Introduction to Markov Chain and Hidden Markov Models\n",
    "- Introduction to n-gram language models\n",
    "- Understanding of Recurrent Neural Language Models\n",
    "- Introduction to Generative Pre-training Transformer (GPT) and its variants\n",
    "- Introduction to fine-tuning pre-trained language models\n",
    "- Understanding of evaluation metrics for language models\n",
    "- Understanding of text generation using language models\n",
    "- Introduction to machine translation and its techniques\n",
    "- Understanding the role of attention mechanism in language models\n",
    "- Understanding the concept of Language model pre-training and its application in NLP tasks.\n",
    "- Understanding the concept of zero-shot learning and its application in NLP tasks."
   ]
  },
  {
   "cell_type": "code",
   "execution_count": null,
   "id": "a2d97669",
   "metadata": {},
   "outputs": [],
   "source": []
  }
 ],
 "metadata": {
  "kernelspec": {
   "display_name": "Python 3 (ipykernel)",
   "language": "python",
   "name": "python3"
  },
  "language_info": {
   "codemirror_mode": {
    "name": "ipython",
    "version": 3
   },
   "file_extension": ".py",
   "mimetype": "text/x-python",
   "name": "python",
   "nbconvert_exporter": "python",
   "pygments_lexer": "ipython3",
   "version": "3.10.1"
  }
 },
 "nbformat": 4,
 "nbformat_minor": 5
}
