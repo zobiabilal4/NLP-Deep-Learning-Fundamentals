{
 "cells": [
  {
   "cell_type": "markdown",
   "id": "5e1731cc",
   "metadata": {},
   "source": [
    "# Week 2_ Neural Network Fundamentals\n",
    "\n",
    "- Introduction to neural networks and its architecture\n",
    "- Understanding of Perceptrons and Multi-layer perceptrons (MLP)\n",
    "- Understanding of activation functions and their role in neural networks\n",
    "- Introduction to backpropagation and gradient descent optimization algorithms\n",
    "- Understanding of overfitting and regularization techniques to prevent it\n",
    "- Understanding of Convolutional Neural Networks (CNN) and its application in NLP\n",
    "- Understanding of Recurrent Neural Networks (RNN) and its variants such as LSTM and GRU\n",
    "- Introduction to Transformer architecture and its application in NLP\n",
    "- Understanding of Generative models such as GAN and VAE\n",
    "- Understanding of Autoencoder and its application in NLP\n",
    "- Understanding of Reinforcement learning and its application in NLP\n",
    "- Introduction to Hyperparameter tuning and its importance in neural networks\n",
    "- Understanding of Batch normalization and Dropout for improving the performance of neural networks.\n"
   ]
  },
  {
   "cell_type": "code",
   "execution_count": 1,
   "id": "0459b079",
   "metadata": {},
   "outputs": [
    {
     "data": {
      "text/plain": [
       "[2, 4, 5, 6, 6]"
      ]
     },
     "execution_count": 1,
     "metadata": {},
     "output_type": "execute_result"
    }
   ],
   "source": [
    "list1 = [2,4,5,6,6]\n",
    "list1"
   ]
  },
  {
   "cell_type": "code",
   "execution_count": null,
   "id": "fb5a0fa2",
   "metadata": {},
   "outputs": [],
   "source": []
  },
  {
   "cell_type": "code",
   "execution_count": null,
   "id": "cfd80306",
   "metadata": {},
   "outputs": [],
   "source": []
  },
  {
   "cell_type": "code",
   "execution_count": null,
   "id": "0bba9b7c",
   "metadata": {},
   "outputs": [],
   "source": []
  },
  {
   "cell_type": "code",
   "execution_count": null,
   "id": "ec3c21ef",
   "metadata": {},
   "outputs": [],
   "source": []
  },
  {
   "cell_type": "code",
   "execution_count": null,
   "id": "4ae3a73e",
   "metadata": {},
   "outputs": [],
   "source": []
  },
  {
   "cell_type": "code",
   "execution_count": null,
   "id": "ef94cd9e",
   "metadata": {},
   "outputs": [],
   "source": []
  },
  {
   "cell_type": "code",
   "execution_count": null,
   "id": "14e7aef1",
   "metadata": {},
   "outputs": [],
   "source": []
  },
  {
   "cell_type": "code",
   "execution_count": null,
   "id": "6146aef3",
   "metadata": {},
   "outputs": [],
   "source": []
  },
  {
   "cell_type": "code",
   "execution_count": null,
   "id": "fab6bf79",
   "metadata": {},
   "outputs": [],
   "source": []
  },
  {
   "cell_type": "code",
   "execution_count": null,
   "id": "fc101f0d",
   "metadata": {},
   "outputs": [],
   "source": []
  }
 ],
 "metadata": {
  "kernelspec": {
   "display_name": "Python 3 (ipykernel)",
   "language": "python",
   "name": "python3"
  },
  "language_info": {
   "codemirror_mode": {
    "name": "ipython",
    "version": 3
   },
   "file_extension": ".py",
   "mimetype": "text/x-python",
   "name": "python",
   "nbconvert_exporter": "python",
   "pygments_lexer": "ipython3",
   "version": "3.10.1"
  }
 },
 "nbformat": 4,
 "nbformat_minor": 5
}
