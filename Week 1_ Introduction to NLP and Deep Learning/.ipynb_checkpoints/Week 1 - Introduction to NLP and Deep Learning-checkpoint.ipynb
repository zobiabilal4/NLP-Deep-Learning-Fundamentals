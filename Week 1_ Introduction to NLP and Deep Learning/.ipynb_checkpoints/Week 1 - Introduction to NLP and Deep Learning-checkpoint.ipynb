{
 "cells": [
  {
   "cell_type": "markdown",
   "id": "c97697bb",
   "metadata": {},
   "source": [
    "## Week 1 - Introduction to NLP and Deep Learning\n",
    "\n",
    "**Learning Agenda of this Notebook:**\n",
    "\n",
    "- Overview of Natural Language Processing (NLP) and its applications\n",
    "- Introduction to deep learning and its application in NLP\n",
    "- NLP Tasks such as Text classification, Sentiment Analysis, Language Translation, Named Entity recognition\n",
    "- Text data preprocessing techniques such as tokenization, stemming, lemmatization, stop word removal, Text normalization and Text standardization\n",
    "- Understanding of Parsing and its role in NLP: dependency parsing and constituency parsing\n",
    "- Introduction to regular expressions and pattern matching in text data preprocessing\n",
    "- Familiarization with commonly used NLP datasets and their respective tasks\n",
    "- Introduction to popular NLP libraries like NLTK, spaCy and TextBlob\n",
    "- Understanding of Text similarity and Text distance\n",
    "- Understanding of Corpus and Corpus Linguistics\n",
    "- Understanding of N-Grams and its importance in NLP\n",
    "- Introduction to data annotation and data labeling in NLP tasks\n",
    "- Understanding of Text data characteristics: structured and unstructured data\n",
    "\n"
   ]
  },
  {
   "cell_type": "code",
   "execution_count": null,
   "id": "cf37edbd",
   "metadata": {},
   "outputs": [],
   "source": []
  },
  {
   "cell_type": "code",
   "execution_count": 2,
   "id": "18c0c678",
   "metadata": {},
   "outputs": [
    {
     "data": {
      "text/plain": [
       "[3, 4, 5, 6, 4]"
      ]
     },
     "execution_count": 2,
     "metadata": {},
     "output_type": "execute_result"
    }
   ],
   "source": [
    "list1 =[3,4,5,6,4]\n",
    "list1"
   ]
  },
  {
   "cell_type": "code",
   "execution_count": null,
   "id": "565faf6b",
   "metadata": {},
   "outputs": [],
   "source": []
  },
  {
   "cell_type": "code",
   "execution_count": null,
   "id": "6e1b4e42",
   "metadata": {},
   "outputs": [],
   "source": []
  },
  {
   "cell_type": "code",
   "execution_count": null,
   "id": "811105ab",
   "metadata": {},
   "outputs": [],
   "source": []
  },
  {
   "cell_type": "markdown",
   "id": "3ee7328e",
   "metadata": {},
   "source": [
    "### Overview of Natural Language Processing (NLP) and its applications\n",
    "\n",
    "<figure>\n",
    "<img src=\"images/j1.jpg\">\n",
    "    \n",
    "Image source: [Link to source](https://www.google.com/url?sa=i&url=https%3A%2F%2Fsubscription.packtpub.com%2Fbook%2Fdata%2F9781838550295%2F1%2Fch01lvl1sec04%2Fapplications-of-natural-language-processing&psig=AOvVaw1jTunC3MeeYfHfFcWzuozV&ust=1674721897007000&source=images&cd=vfe&ved=0CBIQ3YkBahcKEwjg-u-wp-L8AhUAAAAAHQAAAAAQAw)\n",
    "</figure>\n"
   ]
  },
  {
   "cell_type": "code",
   "execution_count": null,
   "id": "46a301d3",
   "metadata": {},
   "outputs": [],
   "source": []
  },
  {
   "cell_type": "code",
   "execution_count": null,
   "id": "26715925",
   "metadata": {},
   "outputs": [],
   "source": []
  },
  {
   "cell_type": "markdown",
   "id": "29e98ee8",
   "metadata": {},
   "source": [
    "### Introduction to deep learning and its application in NLP\n",
    "\n",
    "<img src=\"images/DL_applications.png\" height=400px width=400px>\n",
    "\n",
    "\n",
    "Image Source: [Link to source](https://www.google.com/url?sa=i&url=https%3A%2F%2Fjournalofbigdata.springeropen.com%2Farticles%2F10.1186%2Fs40537-021-00444-8&psig=AOvVaw03mY82rWFCsvu-GsSQzlYd&ust=1675844987191000&source=images&cd=vfe&ved=0CBIQ3YkBahcKEwig7cvI_4L9AhUAAAAAHQAAAAAQGQ)"
   ]
  },
  {
   "cell_type": "code",
   "execution_count": null,
   "id": "27018993",
   "metadata": {},
   "outputs": [],
   "source": []
  },
  {
   "cell_type": "code",
   "execution_count": null,
   "id": "f894c26f",
   "metadata": {},
   "outputs": [],
   "source": []
  },
  {
   "cell_type": "code",
   "execution_count": null,
   "id": "886ad54a",
   "metadata": {},
   "outputs": [],
   "source": []
  },
  {
   "cell_type": "code",
   "execution_count": null,
   "id": "14b3ee7e",
   "metadata": {},
   "outputs": [],
   "source": []
  },
  {
   "cell_type": "code",
   "execution_count": 3,
   "id": "94f3fafe",
   "metadata": {},
   "outputs": [],
   "source": [
    "list1 = [2,3,4,6,6]\n",
    "list1.reverse()"
   ]
  },
  {
   "cell_type": "code",
   "execution_count": 4,
   "id": "7233e756",
   "metadata": {},
   "outputs": [
    {
     "data": {
      "text/plain": [
       "[6, 6, 4, 3, 2]"
      ]
     },
     "execution_count": 4,
     "metadata": {},
     "output_type": "execute_result"
    }
   ],
   "source": [
    "list1"
   ]
  },
  {
   "cell_type": "code",
   "execution_count": null,
   "id": "4a274b58",
   "metadata": {},
   "outputs": [],
   "source": []
  }
 ],
 "metadata": {
  "kernelspec": {
   "display_name": "Python 3 (ipykernel)",
   "language": "python",
   "name": "python3"
  },
  "language_info": {
   "codemirror_mode": {
    "name": "ipython",
    "version": 3
   },
   "file_extension": ".py",
   "mimetype": "text/x-python",
   "name": "python",
   "nbconvert_exporter": "python",
   "pygments_lexer": "ipython3",
   "version": "3.10.1"
  }
 },
 "nbformat": 4,
 "nbformat_minor": 5
}
