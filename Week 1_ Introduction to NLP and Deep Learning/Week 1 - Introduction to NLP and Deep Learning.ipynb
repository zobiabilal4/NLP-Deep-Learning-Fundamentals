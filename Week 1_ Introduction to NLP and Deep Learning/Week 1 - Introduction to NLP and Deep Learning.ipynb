{
 "cells": [
  {
   "cell_type": "markdown",
   "id": "c97697bb",
   "metadata": {},
   "source": [
    "## Week 1 - Introduction to NLP and Deep Learning\n",
    "\n",
    "**Learning Agenda of this Notebook:**\n",
    "\n",
    "- Overview of Natural Language Processing (NLP) and its applications\n",
    "- Introduction to deep learning and its application in NLP\n",
    "- NLP Tasks such as Text classification, Sentiment Analysis, Language Translation, Named Entity recognition\n",
    "- Text data preprocessing techniques such as tokenization, stemming, lemmatization, stop word removal, Text normalization and Text standardization\n",
    "- Understanding of Parsing and its role in NLP: dependency parsing and constituency parsing\n",
    "- Introduction to regular expressions and pattern matching in text data preprocessing\n",
    "- Familiarization with commonly used NLP datasets and their respective tasks\n",
    "- Introduction to popular NLP libraries like NLTK, spaCy and TextBlob\n",
    "- Understanding of Text similarity and Text distance\n",
    "- Understanding of Corpus and Corpus Linguistics\n",
    "- Understanding of N-Grams and its importance in NLP\n",
    "- Introduction to data annotation and data labeling in NLP tasks\n",
    "- Understanding of Text data characteristics: structured and unstructured data\n",
    "\n"
   ]
  },
  {
   "cell_type": "markdown",
   "id": "c8adbd54",
   "metadata": {},
   "source": [
    "### Machine learning and deep learning\n",
    "\n",
    "\n",
    "\n",
    "\n",
    "<figure>\n",
    "<img src=\"images/ai-vs-machine-learning-vs-deep-learning.png\" width =\"400px\" height =\"700px\">\n",
    "Image source: [Link to source](https://docs.microsoft.com/en-us/azure/machine-learning/media/concept-deep-learning-vs-machine-learning/ai-vs-machine-learning-vs-deep-learning.png)\n",
    "</figure>\n",
    "\n"
   ]
  },
  {
   "cell_type": "code",
   "execution_count": null,
   "id": "811105ab",
   "metadata": {},
   "outputs": [],
   "source": []
  },
  {
   "cell_type": "markdown",
   "id": "3ee7328e",
   "metadata": {},
   "source": [
    "### Overview of Natural Language Processing (NLP) and its applications\n",
    "\n",
    "<figure>\n",
    "<img src=\"images/j1.jpg\">\n",
    "    \n",
    "Image source: [Link to source](https://www.google.com/url?sa=i&url=https%3A%2F%2Fsubscription.packtpub.com%2Fbook%2Fdata%2F9781838550295%2F1%2Fch01lvl1sec04%2Fapplications-of-natural-language-processing&psig=AOvVaw1jTunC3MeeYfHfFcWzuozV&ust=1674721897007000&source=images&cd=vfe&ved=0CBIQ3YkBahcKEwjg-u-wp-L8AhUAAAAAHQAAAAAQAw)\n",
    "</figure>\n"
   ]
  },
  {
   "cell_type": "code",
   "execution_count": null,
   "id": "46a301d3",
   "metadata": {},
   "outputs": [],
   "source": []
  },
  {
   "cell_type": "code",
   "execution_count": null,
   "id": "26715925",
   "metadata": {},
   "outputs": [],
   "source": []
  },
  {
   "cell_type": "markdown",
   "id": "29e98ee8",
   "metadata": {},
   "source": [
    "### Introduction to deep learning and its application in NLP\n",
    "\n",
    "<img src=\"images/DL_applications.png\" height=400px width=400px>\n",
    "\n",
    "\n",
    "Image Source: [Link to source](https://www.google.com/url?sa=i&url=https%3A%2F%2Fjournalofbigdata.springeropen.com%2Farticles%2F10.1186%2Fs40537-021-00444-8&psig=AOvVaw03mY82rWFCsvu-GsSQzlYd&ust=1675844987191000&source=images&cd=vfe&ved=0CBIQ3YkBahcKEwig7cvI_4L9AhUAAAAAHQAAAAAQGQ)"
   ]
  },
  {
   "cell_type": "markdown",
   "id": "70ac982e",
   "metadata": {},
   "source": [
    "### Visual recognition using deep learning\n",
    "<img src =\"images/4aff4eece55dedcc202f316e15ef037a.jpg\">"
   ]
  },
  {
   "cell_type": "code",
   "execution_count": null,
   "id": "886ad54a",
   "metadata": {},
   "outputs": [],
   "source": []
  },
  {
   "cell_type": "code",
   "execution_count": null,
   "id": "14b3ee7e",
   "metadata": {},
   "outputs": [],
   "source": []
  },
  {
   "cell_type": "markdown",
   "id": "eb6a32dd",
   "metadata": {},
   "source": []
  },
  {
   "cell_type": "code",
   "execution_count": null,
   "id": "71a59e0b",
   "metadata": {},
   "outputs": [],
   "source": []
  },
  {
   "cell_type": "code",
   "execution_count": null,
   "id": "f28a3ba4",
   "metadata": {},
   "outputs": [],
   "source": []
  },
  {
   "cell_type": "code",
   "execution_count": null,
   "id": "6a62af84",
   "metadata": {},
   "outputs": [],
   "source": []
  },
  {
   "cell_type": "markdown",
   "id": "394cbd46",
   "metadata": {},
   "source": [
    "### Understanding of N-Grams and its importance in NLP\n",
    "\n",
    "No. of N-gram = X - (N - 1)\n",
    "Where,\n",
    "\n",
    "X is the total number of words in a sentence.\n",
    "\n",
    "An N-gram is a contiguous sequence of n items from a given sample of text or speech. In Natural Language Processing, the concept of N-gram is widely used for text analysis. An N-gram of size 1 is referred to as a “unigram“, size 2 is a “bigram”, size 3 is a “trigram”.\n",
    "\n",
    "<img src=\"images/n_gram_ex.png\">"
   ]
  },
  {
   "cell_type": "code",
   "execution_count": null,
   "id": "7c80e6d5",
   "metadata": {},
   "outputs": [],
   "source": []
  }
 ],
 "metadata": {
  "kernelspec": {
   "display_name": "Python 3 (ipykernel)",
   "language": "python",
   "name": "python3"
  },
  "language_info": {
   "codemirror_mode": {
    "name": "ipython",
    "version": 3
   },
   "file_extension": ".py",
   "mimetype": "text/x-python",
   "name": "python",
   "nbconvert_exporter": "python",
   "pygments_lexer": "ipython3",
   "version": "3.10.1"
  }
 },
 "nbformat": 4,
 "nbformat_minor": 5
}
