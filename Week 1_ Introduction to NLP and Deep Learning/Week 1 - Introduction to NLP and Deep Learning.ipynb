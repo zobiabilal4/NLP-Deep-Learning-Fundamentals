{
 "cells": [
  {
   "cell_type": "markdown",
   "id": "c97697bb",
   "metadata": {},
   "source": [
    "## Week 1 - Introduction to NLP and Deep Learning\n",
    "\n",
    "**Learning Agenda of this Notebook:**\n",
    "\n",
    "- Overview of Natural Language Processing (NLP) and its applications\n",
    "- Introduction to deep learning and its application in NLP\n",
    "- NLP Tasks such as Text classification, Sentiment Analysis, Language Translation, Named Entity recognition\n",
    "- Text data preprocessing techniques such as tokenization, stemming, lemmatization, stop word removal, Text normalization and Text standardization\n",
    "- Understanding of Parsing and its role in NLP: dependency parsing and constituency parsing\n",
    "- Introduction to regular expressions and pattern matching in text data preprocessing\n",
    "- Familiarization with commonly used NLP datasets and their respective tasks\n",
    "- Introduction to popular NLP libraries like NLTK, spaCy and TextBlob\n",
    "- Understanding of Text similarity and Text distance\n",
    "- Understanding of Corpus and Corpus Linguistics\n",
    "- Understanding of N-Grams and its importance in NLP\n",
    "- Introduction to data annotation and data labeling in NLP tasks\n",
    "- Understanding of Text data characteristics: structured and unstructured data\n",
    "\n"
   ]
  },
  {
   "cell_type": "markdown",
   "id": "c8adbd54",
   "metadata": {},
   "source": [
    "### Machine learning and deep learning\n",
    "\n",
    "\n",
    "\n",
    "\n",
    "<figure>\n",
    "    \n",
    "    \n",
    "<img src=\"images/ai-vs-machine-learning-vs-deep-learning.png\" width =\"400px\" height =\"700px\">\n",
    "    \n",
    "Image source: [Link to source](https://docs.microsoft.com/en-us/azure/machine-learning/media/concept-deep-learning-vs-machine-learning/ai-vs-machine-learning-vs-deep-learning.png)\n",
    "</figure>\n",
    "\n"
   ]
  },
  {
   "cell_type": "code",
   "execution_count": null,
   "id": "811105ab",
   "metadata": {},
   "outputs": [],
   "source": []
  },
  {
   "cell_type": "markdown",
   "id": "3ee7328e",
   "metadata": {},
   "source": [
    "### Overview of Natural Language Processing (NLP) and its applications\n",
    "\n",
    "<figure>\n",
    "<img src=\"images/j1.jpg\">\n",
    "    \n",
    "Image source: [Link to source](https://www.google.com/url?sa=i&url=https%3A%2F%2Fsubscription.packtpub.com%2Fbook%2Fdata%2F9781838550295%2F1%2Fch01lvl1sec04%2Fapplications-of-natural-language-processing&psig=AOvVaw1jTunC3MeeYfHfFcWzuozV&ust=1674721897007000&source=images&cd=vfe&ved=0CBIQ3YkBahcKEwjg-u-wp-L8AhUAAAAAHQAAAAAQAw)\n",
    "</figure>\n"
   ]
  },
  {
   "cell_type": "code",
   "execution_count": null,
   "id": "46a301d3",
   "metadata": {},
   "outputs": [],
   "source": []
  },
  {
   "cell_type": "code",
   "execution_count": null,
   "id": "26715925",
   "metadata": {},
   "outputs": [],
   "source": []
  },
  {
   "cell_type": "markdown",
   "id": "29e98ee8",
   "metadata": {},
   "source": [
    "### Introduction to deep learning and its application in NLP\n",
    "\n",
    "<img src=\"images/DL_applications.png\" height=400px width=400px>\n",
    "\n",
    "\n",
    "Image Source: [Link to source](https://www.google.com/url?sa=i&url=https%3A%2F%2Fjournalofbigdata.springeropen.com%2Farticles%2F10.1186%2Fs40537-021-00444-8&psig=AOvVaw03mY82rWFCsvu-GsSQzlYd&ust=1675844987191000&source=images&cd=vfe&ved=0CBIQ3YkBahcKEwig7cvI_4L9AhUAAAAAHQAAAAAQGQ)"
   ]
  },
  {
   "cell_type": "markdown",
   "id": "70ac982e",
   "metadata": {},
   "source": [
    "### Visual recognition using deep learning\n",
    "<img src =\"images/4aff4eece55dedcc202f316e15ef037a.jpg\">"
   ]
  },
  {
   "cell_type": "code",
   "execution_count": null,
   "id": "886ad54a",
   "metadata": {},
   "outputs": [],
   "source": []
  },
  {
   "cell_type": "markdown",
   "id": "efedfcbd",
   "metadata": {},
   "source": [
    "# NLP TASKS"
   ]
  },
  {
   "cell_type": "markdown",
   "id": "eb6a32dd",
   "metadata": {},
   "source": [
    "<img src=\"images/nlp t.png\">\n",
    "\n",
    "Image source: [Link to source](https://medium.com/nlplanet/what-tasks-can-i-solve-with-nlp-today-1b1823cc8cdf)\n",
    "\n"
   ]
  },
  {
   "cell_type": "code",
   "execution_count": null,
   "id": "dd11e036",
   "metadata": {},
   "outputs": [],
   "source": []
  },
  {
   "cell_type": "markdown",
   "id": "9ed04d7e",
   "metadata": {},
   "source": [
    "## Text Classification\n",
    "\n",
    "Text classification is the task of automatically assigning a text document to one or more pre-defined categories (a.k.a. classes), based on its content.\n"
   ]
  },
  {
   "cell_type": "markdown",
   "id": "e21a4d1b",
   "metadata": {},
   "source": [
    "### Sentiment Analysis\n",
    "\n",
    "Sentiment Analysis: Understanding whether a text has a positive sentiment (e.g. “the dinner was nice”) or a negative sentiment (e.g. “the dinner was awful”).\n",
    "\n",
    "<img src=\"images/text classify1.png\" width =\"700px\" height =\"1000px\">\n",
    "\n",
    "<img src=\"images/text classify 2.png\" width =\"700px\" height =\"1000px\">\n",
    "\n",
    "Image source: [Link to source](https://medium.com/nlplanet/what-tasks-can-i-solve-with-nlp-today-1b1823cc8cdf)\n"
   ]
  },
  {
   "cell_type": "code",
   "execution_count": null,
   "id": "5f9b7139",
   "metadata": {},
   "outputs": [],
   "source": []
  },
  {
   "cell_type": "code",
   "execution_count": null,
   "id": "992be00b",
   "metadata": {},
   "outputs": [],
   "source": []
  },
  {
   "cell_type": "markdown",
   "id": "747c7c5a",
   "metadata": {},
   "source": [
    "### Information Retrieval and Semantic Search\n",
    "\n",
    "\n",
    "Information retrieval (IR) is focused on understanding the user’s intent (typically expressed with a query) and providing the most relevant results. Searches can be based on full-text or metadata searches. Traditional information retrieval systems work by (1) efficiently matching texts between queries and documents, and (2) assigning different importance to different words in a smart way.\n",
    "\n",
    "<img src=\"images/information retriving.png\" width =\"700px\" height =\"1000px\">\n",
    "\n",
    "Image source: [Link to source](https://medium.com/nlplanet/what-tasks-can-i-solve-with-nlp-today-1b1823cc8cdf)\n",
    "\n",
    "\n",
    "\n",
    "Semantic search is related to information retrieval in that it is concerned with finding the best match for a user’s query.\n",
    "\n",
    "<img src=\"images/semantic search.png\" width =\"700px\" height =\"1000px\">\n",
    "\n",
    "Image source: [Link to source](https://medium.com/nlplanet/what-tasks-can-i-solve-with-nlp-today-1b1823cc8cdf)\n",
    "\n",
    "\n",
    "\n"
   ]
  },
  {
   "cell_type": "markdown",
   "id": "77602c2f",
   "metadata": {},
   "source": [
    "### Text Summarization\n",
    "\n",
    "Text summarization is the process of generating a short, accurate, and representative summary of a longer text document. The goal of text summarization is to create a condensed version of the original document that captures its essential information while being significantly shorter.\n",
    "\n",
    "Examples of text summarization use cases are:\n",
    "\n",
    "- Extracting key information from public news articles and producing insights such as trends and news spotlights.\n",
    "- Allowing clustering of documents by their relevant content.\n",
    "\n",
    "\n",
    "<img src=\"images/summary.png\" width =\"700px\" height =\"1000px\">\n",
    "\n",
    "Image source: [Link to source](https://turbolab.in/types-of-text-summarization-extractive-and-abstractive-summarization-basics/)\n",
    "\n",
    "\n",
    "\n"
   ]
  },
  {
   "cell_type": "code",
   "execution_count": null,
   "id": "bc97db5d",
   "metadata": {},
   "outputs": [],
   "source": []
  },
  {
   "cell_type": "code",
   "execution_count": null,
   "id": "9e047920",
   "metadata": {},
   "outputs": [],
   "source": []
  },
  {
   "cell_type": "markdown",
   "id": "826a78b5",
   "metadata": {},
   "source": [
    "### Question Answering\n",
    "\n",
    "\n",
    "Question Answering (QA) is focused on techniques to automatically answer questions posed in natural language.\n",
    "Broadly speaking, there are two types of QA systems\n",
    "- extractive\n",
    "- generative.\n",
    "\n",
    "#### Extractive \n",
    "\n",
    "Extractive Question Answering takes a question as input and retrieves the most relevant answer from a large database of potential answers.\n",
    "\n",
    "\n",
    "<img src=\"images/extraction.png\" width =\"700px\" height =\"1000px\">\n",
    "\n",
    "Image source: [Link to source](https://medium.com/nlplanet/what-tasks-can-i-solve-with-nlp-today-1b1823cc8cdf)\n",
    "\n",
    "#### Generative\n",
    "\n",
    "Generative Question Answering, on the other hand, generates an answer from scratch based on the question and sometimes also on additional context information.\n",
    "\n",
    "\n",
    "\n",
    "<img src=\"images/generative.png\" width =\"700px\" height =\"1000px\">\n",
    "\n",
    "Image source: [Link to source](https://medium.com/nlplanet/what-tasks-can-i-solve-with-nlp-today-1b1823cc8cdf)\n",
    "\n",
    "\n",
    "\n"
   ]
  },
  {
   "cell_type": "code",
   "execution_count": null,
   "id": "6f6c628c",
   "metadata": {},
   "outputs": [],
   "source": []
  },
  {
   "cell_type": "code",
   "execution_count": null,
   "id": "ecce1c15",
   "metadata": {},
   "outputs": [],
   "source": []
  },
  {
   "cell_type": "markdown",
   "id": "59e847e6",
   "metadata": {},
   "source": [
    "###  Named-Entity Recognition\n",
    "\n",
    "Named-Entity Recognition is a subtask of information extraction that seeks to locate and classify named entities in text into pre-defined categories such as the names of persons, organizations, locations, expressions of times, quantities, monetary values, percentages, etc.\n",
    "\n",
    "\n",
    "<img src=\"images/named reco.png\" width =\"700px\" height =\"1000px\">\n",
    "\n",
    "Image source: [Link to source](https://medium.com/nlplanet/what-tasks-can-i-solve-with-nlp-today-1b1823cc8cdf)\n",
    "\n",
    "\n",
    "\n",
    "\n",
    "\n"
   ]
  },
  {
   "cell_type": "code",
   "execution_count": null,
   "id": "dda1866d",
   "metadata": {},
   "outputs": [],
   "source": []
  },
  {
   "cell_type": "code",
   "execution_count": null,
   "id": "968c916d",
   "metadata": {},
   "outputs": [],
   "source": []
  },
  {
   "cell_type": "markdown",
   "id": "910b9c7e",
   "metadata": {},
   "source": [
    "### Knowledge Graphs\n",
    "\n",
    "<img src=\"images/text graphs.png\" width =\"700px\" height =\"1000px\">\n",
    "\n",
    "Image source: [Link to source](https://medium.com/nlplanet/what-tasks-can-i-solve-with-nlp-today-1b1823cc8cdf)\n",
    "\n",
    "\n",
    "\n",
    "\n"
   ]
  },
  {
   "cell_type": "code",
   "execution_count": null,
   "id": "bc938c54",
   "metadata": {},
   "outputs": [],
   "source": []
  },
  {
   "cell_type": "code",
   "execution_count": null,
   "id": "e72a4ba2",
   "metadata": {},
   "outputs": [],
   "source": []
  },
  {
   "cell_type": "markdown",
   "id": "16c24ea0",
   "metadata": {},
   "source": [
    "### Text Generation\n",
    "\n",
    "Text Generation is the task of automatically creating natural language text similar to those produced by humans.\n",
    "\n",
    "\n",
    "<img src=\"images/text generation.png\" width =\"700px\" height =\"1000px\">\n",
    "\n",
    "Image source: [Link to source](https://medium.com/nlplanet/what-tasks-can-i-solve-with-nlp-today-1b1823cc8cdf)\n",
    "\n"
   ]
  },
  {
   "cell_type": "code",
   "execution_count": null,
   "id": "690affff",
   "metadata": {},
   "outputs": [],
   "source": []
  },
  {
   "cell_type": "code",
   "execution_count": null,
   "id": "6e1090f6",
   "metadata": {},
   "outputs": [],
   "source": []
  },
  {
   "cell_type": "markdown",
   "id": "a5509ee9",
   "metadata": {},
   "source": [
    "### Speech-to-Text and Text-to-Speech\n",
    "\n",
    "- In Speech-to-Text (STT), also called Automatic Speech Recognition (ASR), the computer listens to a person speaking and converts the sounds into written words. \n",
    "- In Text-to-Speech (TTS), the computer reads written text and converts it into spoken words.\n",
    "\n",
    "<img src=\"images/speech -text.png\" width =\"400px\" height =\"400px\">\n",
    "\n",
    "Image source: [Link to source](https://medium.com/nlplanet/what-tasks-can-i-solve-with-nlp-today-1b1823cc8cdf)\n",
    "\n",
    "<img src=\"images/speech to text.png\" width =\"700px\" height =\"1000px\">\n",
    "\n",
    "Image source: [Link to source](https://www.kardome.com/blog-posts/difference-speech-and-voice-recognition)\n",
    "\n",
    "\n",
    "<img src=\"images/speech.png\" width =\"700px\" height =\"1000px\">\n",
    "\n",
    "Image source: [Link to source](https://www.google.com/search?q=Speech-to-Text+and+Text-to-Speech&sxsrf=AJOqlzVmL0dFLGQbjABkyMH3F9oxTTdOxw:1677599011146&source=lnms&tbm=isch&sa=X&ved=2ahUKEwjA4Ympx7j9AhXIs6QKHR-uCE8Q_AUoAXoECAEQAw&biw=1536&bih=735&dpr=1.25)\n",
    "\n"
   ]
  },
  {
   "cell_type": "code",
   "execution_count": null,
   "id": "60d1f0b1",
   "metadata": {},
   "outputs": [],
   "source": []
  },
  {
   "cell_type": "code",
   "execution_count": null,
   "id": "0c4dce64",
   "metadata": {},
   "outputs": [],
   "source": []
  },
  {
   "cell_type": "markdown",
   "id": "a6f5f7a4",
   "metadata": {},
   "source": [
    "### Image Search\n",
    "\n",
    "\n",
    "Image Search is the process of searching for images based on their visual content and using textual queries. It’s a multimodal task as it concerns data in different modalities: text and image.\n",
    "\n",
    "Nowadays, image-based search engines are developed somewhat similar to semantic text-based search engines:\n",
    "\n",
    "- All the images are embedded and represented as vectors.\n",
    "- The query is embedded as well.\n",
    "- The best results are the images with the highest vector similarity to the query.\n",
    "\n",
    "<img src=\"images/image search.png\" width =\"700px\" height =\"1000px\">\n",
    "\n",
    "Image source: [Link to source](https://medium.com/nlplanet/what-tasks-can-i-solve-with-nlp-today-1b1823cc8cdf)\n",
    "\n",
    "\n",
    "\n"
   ]
  },
  {
   "cell_type": "code",
   "execution_count": null,
   "id": "6a020468",
   "metadata": {},
   "outputs": [],
   "source": []
  },
  {
   "cell_type": "code",
   "execution_count": null,
   "id": "320927f3",
   "metadata": {},
   "outputs": [],
   "source": []
  },
  {
   "cell_type": "code",
   "execution_count": null,
   "id": "16ac3c09",
   "metadata": {},
   "outputs": [],
   "source": []
  },
  {
   "cell_type": "markdown",
   "id": "394cbd46",
   "metadata": {},
   "source": [
    "### Understanding of N-Grams and its importance in NLP\n",
    "\n",
    "No. of N-gram = X - (N - 1)\n",
    "Where,\n",
    "\n",
    "X is the total number of words in a sentence.\n",
    "\n",
    "An N-gram is a contiguous sequence of n items from a given sample of text or speech. In Natural Language Processing, the concept of N-gram is widely used for text analysis. An N-gram of size 1 is referred to as a “unigram“, size 2 is a “bigram”, size 3 is a “trigram”.\n",
    "\n",
    "<img src=\"images/n_gram_ex.png\">"
   ]
  },
  {
   "cell_type": "code",
   "execution_count": null,
   "id": "26df72dc",
   "metadata": {},
   "outputs": [],
   "source": []
  },
  {
   "cell_type": "code",
   "execution_count": null,
   "id": "21b4067f",
   "metadata": {},
   "outputs": [],
   "source": []
  },
  {
   "cell_type": "code",
   "execution_count": null,
   "id": "d9e2f286",
   "metadata": {},
   "outputs": [],
   "source": []
  },
  {
   "cell_type": "code",
   "execution_count": null,
   "id": "86cf2762",
   "metadata": {},
   "outputs": [],
   "source": []
  }
 ],
 "metadata": {
  "kernelspec": {
   "display_name": "Python 3 (ipykernel)",
   "language": "python",
   "name": "python3"
  },
  "language_info": {
   "codemirror_mode": {
    "name": "ipython",
    "version": 3
   },
   "file_extension": ".py",
   "mimetype": "text/x-python",
   "name": "python",
   "nbconvert_exporter": "python",
   "pygments_lexer": "ipython3",
   "version": "3.10.1"
  }
 },
 "nbformat": 4,
 "nbformat_minor": 5
}
