{
 "cells": [
  {
   "cell_type": "markdown",
   "id": "c2b4323b",
   "metadata": {},
   "source": [
    "# Week 11_ Dialogue Systems\n",
    "\n",
    "\n",
    "\n",
    "- Introduction to dialogue systems and its types\n",
    "- Understanding of task-oriented and non-task-oriented dialogue systems\n",
    "- Introduction to different dialogue systems architectures such as rule-based, statistical and neural models\n",
    "- Understanding of dialogue management and dialogue state tracking\n",
    "- Understanding of natural language understanding and natural language generation\n",
    "- Implementing dialogue systems using PyTorch or TensorFlow\n",
    "- Understanding of evaluation metrics for dialogue systems\n",
    "- Introduction to pre-trained models such as BERT and its fine-tuning for dialogue systems tasks\n",
    "- Understanding of transfer learning for dialogue systems\n",
    "- Understanding of active learning and its application in dialogue systems\n",
    "- Understanding of unsupervised techniques for dialogue systems\n",
    "- Understanding the role of dialogue systems in conversational agents and chatbots\n",
    "- Understanding of data preparation and data cleaning for dialogue systems tasks\n",
    "- Understanding the role of ensemble models in dialogue systems"
   ]
  },
  {
   "cell_type": "code",
   "execution_count": null,
   "id": "0e911469",
   "metadata": {},
   "outputs": [],
   "source": []
  },
  {
   "cell_type": "code",
   "execution_count": null,
   "id": "80766bd5",
   "metadata": {},
   "outputs": [],
   "source": []
  },
  {
   "cell_type": "code",
   "execution_count": null,
   "id": "90577c74",
   "metadata": {},
   "outputs": [],
   "source": []
  }
 ],
 "metadata": {
  "kernelspec": {
   "display_name": "Python 3 (ipykernel)",
   "language": "python",
   "name": "python3"
  },
  "language_info": {
   "codemirror_mode": {
    "name": "ipython",
    "version": 3
   },
   "file_extension": ".py",
   "mimetype": "text/x-python",
   "name": "python",
   "nbconvert_exporter": "python",
   "pygments_lexer": "ipython3",
   "version": "3.10.1"
  }
 },
 "nbformat": 4,
 "nbformat_minor": 5
}
