{
 "cells": [
  {
   "cell_type": "markdown",
   "id": "8f63b6b4",
   "metadata": {},
   "source": [
    "# Week 12_ Text Summarization\n",
    "\n",
    "\n",
    "- Introduction to text summarization and its types\n",
    "- Understanding of extractive and abstractive text summarization\n",
    "- Introduction to different text summarization techniques such as frequency-based, centroid-based, and graph-based\n",
    "- Understanding of TextRank and its application in text summarization\n",
    "- Implementing text summarization models using PyTorch or TensorFlow\n",
    "- Understanding of evaluation metrics for text summarization\n",
    "- Introduction to pre-trained models such as BERT and its fine-tuning for text summarization tasks\n",
    "- Understanding of transfer learning for text summarization\n",
    "- Understanding of active learning and its application in text summarization\n",
    "- Understanding of unsupervised techniques for text summarization\n",
    "- Understanding the role of text summarization in text classification and sentiment analysis\n",
    "- Understanding of data preparation and data cleaning for text summarization tasks\n",
    "- Understanding the role of ensemble models in text summarization\n",
    "- Understanding the concept of language model pre-training and its application in text summarization tasks\n"
   ]
  },
  {
   "cell_type": "code",
   "execution_count": null,
   "id": "91cf0337",
   "metadata": {},
   "outputs": [],
   "source": []
  },
  {
   "cell_type": "code",
   "execution_count": null,
   "id": "a047eb94",
   "metadata": {},
   "outputs": [],
   "source": []
  },
  {
   "cell_type": "code",
   "execution_count": null,
   "id": "523e8822",
   "metadata": {},
   "outputs": [],
   "source": []
  },
  {
   "cell_type": "code",
   "execution_count": null,
   "id": "7fb0deb9",
   "metadata": {},
   "outputs": [],
   "source": []
  },
  {
   "cell_type": "code",
   "execution_count": null,
   "id": "de75a360",
   "metadata": {},
   "outputs": [],
   "source": []
  }
 ],
 "metadata": {
  "kernelspec": {
   "display_name": "Python 3 (ipykernel)",
   "language": "python",
   "name": "python3"
  },
  "language_info": {
   "codemirror_mode": {
    "name": "ipython",
    "version": 3
   },
   "file_extension": ".py",
   "mimetype": "text/x-python",
   "name": "python",
   "nbconvert_exporter": "python",
   "pygments_lexer": "ipython3",
   "version": "3.10.1"
  }
 },
 "nbformat": 4,
 "nbformat_minor": 5
}
